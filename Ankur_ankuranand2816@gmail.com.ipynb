{
 "cells": [
  {
   "cell_type": "code",
   "execution_count": 581,
   "metadata": {
    "collapsed": true
   },
   "outputs": [
    {
     "data": {
      "text/plain": "    Application_ID  Gender Married Dependents Education Self_Employed  \\\n9         LP001020    Male     Yes          1  Graduate            No   \n27        LP001100    Male      No         3+  Graduate            No   \n46        LP001186  Female     Yes          1  Graduate           Yes   \n107       LP001451    Male     Yes          1  Graduate           Yes   \n115       LP001492    Male      No          0  Graduate            No   \n125       LP001519  Female      No          0  Graduate            No   \n155       LP001637    Male     Yes          1  Graduate            No   \n161       LP001656    Male      No          0  Graduate            No   \n168       LP001673    Male      No          0  Graduate           Yes   \n179       LP001708  Female      No          0  Graduate            No   \n216       LP001844    Male      No          0  Graduate           Yes   \n220       LP001859    Male     Yes          0  Graduate            No   \n242       LP001922    Male     Yes          0  Graduate            No   \n263       LP001996    Male      No          0  Graduate            No   \n269       LP002050    Male     Yes          1  Graduate           Yes   \n308       LP002191    Male     Yes          0  Graduate            No   \n342       LP002317    Male     Yes         3+  Graduate            No   \n368       LP002403    Male      No          0  Graduate           Yes   \n407       LP002547    Male     Yes          1  Graduate            No   \n\n     Credit_History Property_Area Income Application_Status  \n9                 1     Semiurban   high                  N  \n27                1         Rural   high                  N  \n46                0         Urban   high                  N  \n107               0         Urban   high                  N  \n115               0     Semiurban   high                  N  \n125               1         Rural   high                  N  \n155               1     Semiurban   high                  N  \n161               1     Semiurban   high                  N  \n168               1         Urban   high                  N  \n179               1     Semiurban   high                  N  \n216               0         Urban   high                  N  \n220               1         Rural   high                  N  \n242               1         Rural   high                  N  \n263               1         Rural   high                  N  \n269               1         Rural   high                  N  \n308               1         Rural   high                  N  \n342               0         Rural   high                  N  \n368               0         Urban   high                  N  \n407               1         Urban   high                  N  ",
      "text/html": "<div>\n<style scoped>\n    .dataframe tbody tr th:only-of-type {\n        vertical-align: middle;\n    }\n\n    .dataframe tbody tr th {\n        vertical-align: top;\n    }\n\n    .dataframe thead th {\n        text-align: right;\n    }\n</style>\n<table border=\"1\" class=\"dataframe\">\n  <thead>\n    <tr style=\"text-align: right;\">\n      <th></th>\n      <th>Application_ID</th>\n      <th>Gender</th>\n      <th>Married</th>\n      <th>Dependents</th>\n      <th>Education</th>\n      <th>Self_Employed</th>\n      <th>Credit_History</th>\n      <th>Property_Area</th>\n      <th>Income</th>\n      <th>Application_Status</th>\n    </tr>\n  </thead>\n  <tbody>\n    <tr>\n      <th>9</th>\n      <td>LP001020</td>\n      <td>Male</td>\n      <td>Yes</td>\n      <td>1</td>\n      <td>Graduate</td>\n      <td>No</td>\n      <td>1</td>\n      <td>Semiurban</td>\n      <td>high</td>\n      <td>N</td>\n    </tr>\n    <tr>\n      <th>27</th>\n      <td>LP001100</td>\n      <td>Male</td>\n      <td>No</td>\n      <td>3+</td>\n      <td>Graduate</td>\n      <td>No</td>\n      <td>1</td>\n      <td>Rural</td>\n      <td>high</td>\n      <td>N</td>\n    </tr>\n    <tr>\n      <th>46</th>\n      <td>LP001186</td>\n      <td>Female</td>\n      <td>Yes</td>\n      <td>1</td>\n      <td>Graduate</td>\n      <td>Yes</td>\n      <td>0</td>\n      <td>Urban</td>\n      <td>high</td>\n      <td>N</td>\n    </tr>\n    <tr>\n      <th>107</th>\n      <td>LP001451</td>\n      <td>Male</td>\n      <td>Yes</td>\n      <td>1</td>\n      <td>Graduate</td>\n      <td>Yes</td>\n      <td>0</td>\n      <td>Urban</td>\n      <td>high</td>\n      <td>N</td>\n    </tr>\n    <tr>\n      <th>115</th>\n      <td>LP001492</td>\n      <td>Male</td>\n      <td>No</td>\n      <td>0</td>\n      <td>Graduate</td>\n      <td>No</td>\n      <td>0</td>\n      <td>Semiurban</td>\n      <td>high</td>\n      <td>N</td>\n    </tr>\n    <tr>\n      <th>125</th>\n      <td>LP001519</td>\n      <td>Female</td>\n      <td>No</td>\n      <td>0</td>\n      <td>Graduate</td>\n      <td>No</td>\n      <td>1</td>\n      <td>Rural</td>\n      <td>high</td>\n      <td>N</td>\n    </tr>\n    <tr>\n      <th>155</th>\n      <td>LP001637</td>\n      <td>Male</td>\n      <td>Yes</td>\n      <td>1</td>\n      <td>Graduate</td>\n      <td>No</td>\n      <td>1</td>\n      <td>Semiurban</td>\n      <td>high</td>\n      <td>N</td>\n    </tr>\n    <tr>\n      <th>161</th>\n      <td>LP001656</td>\n      <td>Male</td>\n      <td>No</td>\n      <td>0</td>\n      <td>Graduate</td>\n      <td>No</td>\n      <td>1</td>\n      <td>Semiurban</td>\n      <td>high</td>\n      <td>N</td>\n    </tr>\n    <tr>\n      <th>168</th>\n      <td>LP001673</td>\n      <td>Male</td>\n      <td>No</td>\n      <td>0</td>\n      <td>Graduate</td>\n      <td>Yes</td>\n      <td>1</td>\n      <td>Urban</td>\n      <td>high</td>\n      <td>N</td>\n    </tr>\n    <tr>\n      <th>179</th>\n      <td>LP001708</td>\n      <td>Female</td>\n      <td>No</td>\n      <td>0</td>\n      <td>Graduate</td>\n      <td>No</td>\n      <td>1</td>\n      <td>Semiurban</td>\n      <td>high</td>\n      <td>N</td>\n    </tr>\n    <tr>\n      <th>216</th>\n      <td>LP001844</td>\n      <td>Male</td>\n      <td>No</td>\n      <td>0</td>\n      <td>Graduate</td>\n      <td>Yes</td>\n      <td>0</td>\n      <td>Urban</td>\n      <td>high</td>\n      <td>N</td>\n    </tr>\n    <tr>\n      <th>220</th>\n      <td>LP001859</td>\n      <td>Male</td>\n      <td>Yes</td>\n      <td>0</td>\n      <td>Graduate</td>\n      <td>No</td>\n      <td>1</td>\n      <td>Rural</td>\n      <td>high</td>\n      <td>N</td>\n    </tr>\n    <tr>\n      <th>242</th>\n      <td>LP001922</td>\n      <td>Male</td>\n      <td>Yes</td>\n      <td>0</td>\n      <td>Graduate</td>\n      <td>No</td>\n      <td>1</td>\n      <td>Rural</td>\n      <td>high</td>\n      <td>N</td>\n    </tr>\n    <tr>\n      <th>263</th>\n      <td>LP001996</td>\n      <td>Male</td>\n      <td>No</td>\n      <td>0</td>\n      <td>Graduate</td>\n      <td>No</td>\n      <td>1</td>\n      <td>Rural</td>\n      <td>high</td>\n      <td>N</td>\n    </tr>\n    <tr>\n      <th>269</th>\n      <td>LP002050</td>\n      <td>Male</td>\n      <td>Yes</td>\n      <td>1</td>\n      <td>Graduate</td>\n      <td>Yes</td>\n      <td>1</td>\n      <td>Rural</td>\n      <td>high</td>\n      <td>N</td>\n    </tr>\n    <tr>\n      <th>308</th>\n      <td>LP002191</td>\n      <td>Male</td>\n      <td>Yes</td>\n      <td>0</td>\n      <td>Graduate</td>\n      <td>No</td>\n      <td>1</td>\n      <td>Rural</td>\n      <td>high</td>\n      <td>N</td>\n    </tr>\n    <tr>\n      <th>342</th>\n      <td>LP002317</td>\n      <td>Male</td>\n      <td>Yes</td>\n      <td>3+</td>\n      <td>Graduate</td>\n      <td>No</td>\n      <td>0</td>\n      <td>Rural</td>\n      <td>high</td>\n      <td>N</td>\n    </tr>\n    <tr>\n      <th>368</th>\n      <td>LP002403</td>\n      <td>Male</td>\n      <td>No</td>\n      <td>0</td>\n      <td>Graduate</td>\n      <td>Yes</td>\n      <td>0</td>\n      <td>Urban</td>\n      <td>high</td>\n      <td>N</td>\n    </tr>\n    <tr>\n      <th>407</th>\n      <td>LP002547</td>\n      <td>Male</td>\n      <td>Yes</td>\n      <td>1</td>\n      <td>Graduate</td>\n      <td>No</td>\n      <td>1</td>\n      <td>Urban</td>\n      <td>high</td>\n      <td>N</td>\n    </tr>\n  </tbody>\n</table>\n</div>"
     },
     "execution_count": 581,
     "metadata": {},
     "output_type": "execute_result"
    }
   ],
   "source": [
    "import pandas as pd\n",
    "data=pd.read_json('loan_data.json')\n",
    "data\n",
    "# print(data)\n",
    "data[(data.Application_Status=='N') & (data.Income=='high')]"
   ]
  },
  {
   "cell_type": "code",
   "execution_count": 547,
   "outputs": [
    {
     "name": "stdout",
     "output_type": "stream",
     "text": [
      "% of total applicants for each unique value of dependents\n",
      "Dependents  % of total applicants \n",
      "0     57.534247\n",
      "2     17.221135\n",
      "1     16.634051\n",
      "3+     8.610568\n",
      "Name: Dependents, dtype: float64\n"
     ]
    }
   ],
   "source": [
    "#1 1. Find % of total applicants for each unique value of dependents\n",
    "#Column containing only Dependents\n",
    "data1=data.copy()\n",
    "x=data1[\"Dependents\"]\n",
    "# print(x)\n",
    "# print(x.unique())\n",
    "# iinp=data\n",
    "# iinp.describe()\n",
    "#Unique count of Dependents\n",
    "print('% of total applicants for each unique value of dependents')\n",
    "print('Dependents  % of total applicants ')\n",
    "print(data1['Dependents'].value_counts(normalize=True)*100)\n",
    "# print(pd.value_counts(x)/x.size *100)\n",
    "#Both give the same answer"
   ],
   "metadata": {
    "collapsed": false,
    "pycharm": {
     "name": "#%%\n"
    }
   }
  },
  {
   "cell_type": "code",
   "execution_count": 548,
   "outputs": [
    {
     "name": "stdout",
     "output_type": "stream",
     "text": [
      "Average no. of dependents per applicants= 0.8551859099804305\n"
     ]
    }
   ],
   "source": [
    "#2. Find the average number of dependents per applicant\n",
    "# Assuming 3+is equal to 4\n",
    "ndata=data.copy()\n",
    "# print(data[data.Dependents=='3+'])\n",
    "x=ndata.Dependents\n",
    "# Replacing \"3+\" with 4\n",
    "ndata.Dependents.replace('3+','4',inplace=True)\n",
    "#Converting dtype object into int type\n",
    "x=ndata.Dependents.astype(str).astype(int)\n",
    "print('Average no. of dependents per applicants=',x.mean())\n",
    "# print(x.sum()/x.shape[0])\n",
    "#Sum of all the value is\n",
    "# print('Sum=',pd.value_counts(x).sum())\n",
    "# #Mean=sum/n\n",
    "# print('Average no. of dependents=',pd.value_counts(x).sum()/x.size)\n",
    "# # x.describe()"
   ],
   "metadata": {
    "collapsed": false,
    "pycharm": {
     "name": "#%%\n"
    }
   }
  },
  {
   "cell_type": "code",
   "execution_count": 549,
   "outputs": [
    {
     "name": "stdout",
     "output_type": "stream",
     "text": [
      " %of applications approved for self-employed applicants= 65.71428571428571 %\n"
     ]
    }
   ],
   "source": [
    "#3. Find the %of applications approved for self-employed applicants\n",
    "data3=data.copy()\n",
    "#x= Table of applicants self-employed and Application approved\n",
    "x=data3[(data3.Self_Employed=='Yes') & (data3.Application_Status=='Y')]\n",
    "#y=Total number of Self employed applicants\n",
    "y=data3[(data3.Self_Employed=='Yes')]\n",
    "# print(x)\n",
    "#Ans=x/y*100\n",
    "print(' %of applications approved for self-employed applicants=',x.shape[0]/y.shape[0]*100,'%')"
   ],
   "metadata": {
    "collapsed": false,
    "pycharm": {
     "name": "#%%\n"
    }
   }
  },
  {
   "cell_type": "code",
   "execution_count": 550,
   "outputs": [
    {
     "name": "stdout",
     "output_type": "stream",
     "text": [
      "Rejected married male %= 28.431372549019606\n"
     ]
    }
   ],
   "source": [
    "# 4. What is the % of rejections for married male applicants\n",
    "data4=data.copy()\n",
    "# Table of applicants of married male and rejected application\n",
    "x=data4[(data4.Married=='Yes') & (data4.Application_Status=='N') & (data4.Gender=='Male')]\n",
    "#Total married male applicants\n",
    "y=data4[(data4.Married=='Yes')  & (data4.Gender=='Male')]\n",
    "# print(x.shape[0],y.shape[0])\n",
    "#Rejected married male %= x/y *100\n",
    "print('Rejected married male %=',x.shape[0]/y.shape[0]*100)"
   ],
   "metadata": {
    "collapsed": false,
    "pycharm": {
     "name": "#%%\n"
    }
   }
  },
  {
   "cell_type": "code",
   "execution_count": 551,
   "outputs": [
    {
     "name": "stdout",
     "output_type": "stream",
     "text": [
      "Ans= Semiurban    197\n",
      "Name: Property_Area, dtype: int64\n"
     ]
    }
   ],
   "source": [
    "#5. Which property area has the maximum approval ratio\n",
    "data5=data.copy()\n",
    "x=data5.Property_Area\n",
    "# print(x)\n",
    "print('Ans=',pd.value_counts(x)[0:1])"
   ],
   "metadata": {
    "collapsed": false,
    "pycharm": {
     "name": "#%%\n"
    }
   }
  },
  {
   "cell_type": "code",
   "execution_count": 552,
   "outputs": [
    {
     "name": "stdout",
     "output_type": "stream",
     "text": [
      "Low Income Dependents= 0.7032967032967034\n",
      "Medium Income Dependents= 0.6923076923076923\n",
      "High Income Dependents= 1.0\n"
     ]
    }
   ],
   "source": [
    "#6 Find average dependents per income group\n",
    "data6=data.copy()\n",
    "#Assuming '3+' is 4\n",
    "data6.Dependents.replace('3+','4',inplace=True)\n",
    "Income_Group=data6.groupby(['Income'])\n",
    "y=[0,1,2,4];\n",
    "low=Income_Group['Dependents'].value_counts().loc['low']\n",
    "medium=Income_Group['Dependents'].value_counts().loc['medium']\n",
    "high=Income_Group['Dependents'].value_counts().loc['high']\n",
    "print(\"Low Income Dependents=\",(low*y).sum()/low.sum())\n",
    "print(\"Medium Income Dependents=\",(medium*y).sum()/low.sum())\n",
    "print(\"High Income Dependents=\",(high*y).sum()/high.sum())\n",
    "# print(high)"
   ],
   "metadata": {
    "collapsed": false,
    "pycharm": {
     "name": "#%%\n"
    }
   }
  },
  {
   "cell_type": "code",
   "execution_count": 553,
   "outputs": [
    {
     "data": {
      "text/plain": "Application_ID        0\nGender                0\nMarried               0\nDependents            0\nEducation             0\nSelf_Employed         0\nCredit_History        0\nProperty_Area         0\nIncome                0\nApplication_Status    0\ndtype: int64"
     },
     "execution_count": 553,
     "metadata": {},
     "output_type": "execute_result"
    }
   ],
   "source": [
    "#7. Create a simple predictive model to assess whether a loan application will be approved or rejected and provide the accuracy score\n",
    "data7=data.copy()\n",
    "data7.isnull().sum()\n",
    "#There are no null values in the data set, so we don't need to refactor it\n",
    "\n"
   ],
   "metadata": {
    "collapsed": false,
    "pycharm": {
     "name": "#%%\n"
    }
   }
  },
  {
   "cell_type": "code",
   "execution_count": 554,
   "outputs": [],
   "source": [
    "#Assume dependents of 3+ as 4\n",
    "import numpy as np\n",
    "data7.Dependents.replace('3+','4',inplace=True)\n",
    "#Dividing into independent and dependent variable, Y=Dependent variable\n",
    "#Rest all are Independent variable except Application which is not considered\n",
    "X=data7.iloc[:,np.r_[1:9]].values\n",
    "Y=data7.iloc[:,np.r_[:,9]].values\n",
    "# X"
   ],
   "metadata": {
    "collapsed": false,
    "pycharm": {
     "name": "#%%\n"
    }
   }
  },
  {
   "cell_type": "code",
   "execution_count": 555,
   "outputs": [],
   "source": [
    "#Dividing Data into Training and Testing data\n",
    "from sklearn import model_selection\n",
    "X_train,X_test,Y_train,Y_test = model_selection.train_test_split(X,Y,test_size=0.20,random_state=0)\n",
    "#Converting string data into int data\n",
    "# print(X_train)\n",
    "from sklearn.preprocessing import LabelEncoder\n",
    "le=LabelEncoder()\n",
    "for i in range(0,8):\n",
    "    X_train[:,i]=le.fit_transform(X_train[:,i])\n",
    "# print(Y_train)\n",
    "Y_train=le.fit_transform(Y_train.ravel())\n",
    "# Y_train\n",
    "for i in range(0,8):\n",
    "    X_test[:,i]=le.fit_transform(X_test[:,i])\n",
    "Y_test=le.fit_transform(Y_test.ravel())\n",
    "# Y_test"
   ],
   "metadata": {
    "collapsed": false,
    "pycharm": {
     "name": "#%%\n"
    }
   }
  },
  {
   "cell_type": "code",
   "execution_count": 556,
   "outputs": [
    {
     "name": "stdout",
     "output_type": "stream",
     "text": [
      "The accuracy of Naive bayes is: 75.72815533980582 %\n"
     ]
    }
   ],
   "source": [
    "#Predicting the outcome using Naive byes\n",
    "from sklearn.naive_bayes import GaussianNB\n",
    "from sklearn import metrics\n",
    "from sklearn.metrics import classification_report, confusion_matrix\n",
    "clf = GaussianNB()\n",
    "clf.fit(X_train, Y_train)\n",
    "Y_pred = clf.predict(X_test)\n",
    "# print(classification_report(Y_test,Y_pred))\n",
    "print('The accuracy of Naive bayes is:',metrics.accuracy_score(Y_pred,Y_test)*100,'%')\n",
    "# print(confusion_matrix(Y_test,Y_pred))"
   ],
   "metadata": {
    "collapsed": false,
    "pycharm": {
     "name": "#%%\n"
    }
   }
  },
  {
   "cell_type": "code",
   "execution_count": 557,
   "outputs": [
    {
     "name": "stdout",
     "output_type": "stream",
     "text": [
      "The accuracy of decision Tree is: 77.66990291262135 %\n"
     ]
    }
   ],
   "source": [
    "from sklearn import metrics\n",
    "from sklearn.tree import DecisionTreeClassifier\n",
    "from sklearn.metrics import classification_report, confusion_matrix\n",
    "clf = DecisionTreeClassifier()\n",
    "clf.fit(X_train, Y_train)\n",
    "Y_pred = clf.predict(X_test)\n",
    "# print(classification_report(Y_test,Y_pred))\n",
    "# print(confusion_matrix(Y_test,Y_pred))\n",
    "print('The accuracy of decision Tree is:',metrics.accuracy_score(Y_pred,Y_test)*100,'%')\n"
   ],
   "metadata": {
    "collapsed": false,
    "pycharm": {
     "name": "#%%\n"
    }
   }
  },
  {
   "cell_type": "code",
   "execution_count": 558,
   "outputs": [
    {
     "name": "stdout",
     "output_type": "stream",
     "text": [
      "The accuracy of Logistic Regression is: 76.69902912621359 %\n"
     ]
    }
   ],
   "source": [
    "from sklearn import linear_model\n",
    "from sklearn import metrics\n",
    "from sklearn.metrics import classification_report, confusion_matrix\n",
    "clf =linear_model.LogisticRegression()\n",
    "clf.fit(X_train, Y_train)\n",
    "Y_pred = clf.predict(X_test)\n",
    "# print(classification_report(Y_test,Y_pred))\n",
    "print('The accuracy of Logistic Regression is:',metrics.accuracy_score(Y_pred,Y_test)*100,'%')\n",
    "# print(confusion_matrix(Y_test,Y_pred))"
   ],
   "metadata": {
    "collapsed": false,
    "pycharm": {
     "name": "#%%\n"
    }
   }
  },
  {
   "cell_type": "code",
   "execution_count": 577,
   "outputs": [
    {
     "name": "stdout",
     "output_type": "stream",
     "text": [
      "The accuracy of Naive bayes is: 79.6116504854369 %\n"
     ]
    }
   ],
   "source": [
    "from sklearn.ensemble import RandomForestClassifier\n",
    "from sklearn import metrics\n",
    "from sklearn.metrics import classification_report, confusion_matrix\n",
    "clf = RandomForestClassifier()\n",
    "clf.fit(X_train, Y_train)\n",
    "Y_pred = clf.predict(X_test)\n",
    "# print(classification_report(Y_test,Y_pred))\n",
    "print('The accuracy of Naive bayes is:',metrics.accuracy_score(Y_pred,Y_test)*100,'%')\n",
    "# print(confusion_matrix(Y_test,Y_pred))"
   ],
   "metadata": {
    "collapsed": false,
    "pycharm": {
     "name": "#%%\n"
    }
   }
  }
 ],
 "metadata": {
  "kernelspec": {
   "name": "pycharm-a1ec0fc7",
   "language": "python",
   "display_name": "PyCharm (scientificProject)"
  },
  "language_info": {
   "codemirror_mode": {
    "name": "ipython",
    "version": 2
   },
   "file_extension": ".py",
   "mimetype": "text/x-python",
   "name": "python",
   "nbconvert_exporter": "python",
   "pygments_lexer": "ipython2",
   "version": "2.7.6"
  }
 },
 "nbformat": 4,
 "nbformat_minor": 0
}